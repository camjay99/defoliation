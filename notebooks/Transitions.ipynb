{
 "cells": [
  {
   "cell_type": "code",
   "execution_count": 1,
   "id": "1a5196d3-0714-4eec-a37e-60c3a54326b8",
   "metadata": {},
   "outputs": [],
   "source": [
    "import pandas as pd"
   ]
  },
  {
   "cell_type": "code",
   "execution_count": 2,
   "id": "a4183568-421c-49f8-a35f-3cec6d893f5f",
   "metadata": {},
   "outputs": [],
   "source": [
    "transitions = pd.read_csv('./Data/Transitions/transition_data.csv')"
   ]
  },
  {
   "cell_type": "code",
   "execution_count": 3,
   "id": "64b32718-f5c1-42de-89dd-3a91b5b3ed26",
   "metadata": {},
   "outputs": [],
   "source": [
    "def print_trans_matrix(data):\n",
    "    clear_to_clear = data.loc[(data['from'] == 'clear') & (data['to'] == 'clear'), 'sum'].iloc[0]\n",
    "    clear_to_defol = data.loc[(data['from'] == 'clear') & (data['to'] == 'defol'), 'sum'].iloc[0]\n",
    "    defol_to_clear = data.loc[(data['from'] == 'defol') & (data['to'] == 'clear'), 'sum'].iloc[0]\n",
    "    defol_to_defol = data.loc[(data['from'] == 'defol') & (data['to'] == 'defol'), 'sum'].iloc[0]\n",
    "    \n",
    "    clear_total = clear_to_clear + clear_to_defol\n",
    "    defol_total = defol_to_clear + defol_to_defol\n",
    "    \n",
    "    print(f\"\"\"\\t Clear \\t Defol\n",
    "    Clear\\t {clear_to_clear/clear_total}\\t{clear_to_defol/clear_total}\n",
    "    Defol\\t {defol_to_clear/defol_total}\\t{defol_to_defol/defol_total}\"\"\")"
   ]
  },
  {
   "cell_type": "code",
   "execution_count": 4,
   "id": "693411e7-9272-4c15-9ec9-b4f697cd3f96",
   "metadata": {},
   "outputs": [
    {
     "name": "stdout",
     "output_type": "stream",
     "text": [
      "\t Clear \t Defol\n",
      "    Clear\t 0.991234696540985\t0.00876530345901504\n",
      "    Defol\t 0.9672479955489662\t0.03275200445103381\n"
     ]
    }
   ],
   "source": [
    "tran_2019 = transitions[transitions['year'] == 2019]\n",
    "print_trans_matrix(tran_2019)"
   ]
  },
  {
   "cell_type": "code",
   "execution_count": 5,
   "id": "cc76e3c2-cb12-4fdd-8478-00705502f6ab",
   "metadata": {},
   "outputs": [
    {
     "name": "stdout",
     "output_type": "stream",
     "text": [
      "\t Clear \t Defol\n",
      "    Clear\t 0.9685282724906503\t0.03147172750934966\n",
      "    Defol\t 0.9267080345936939\t0.07329196540630616\n"
     ]
    }
   ],
   "source": [
    "tran_2020 = transitions[transitions['year'] == 2020]\n",
    "print_trans_matrix(tran_2020)"
   ]
  },
  {
   "cell_type": "code",
   "execution_count": 6,
   "id": "e8368fc8-0b3b-4af7-931c-82d00190d45a",
   "metadata": {},
   "outputs": [
    {
     "name": "stdout",
     "output_type": "stream",
     "text": [
      "\t Clear \t Defol\n",
      "    Clear\t 0.9851346540026338\t0.01486534599736627\n",
      "    Defol\t 0.9515438082536768\t0.04845619174632323\n"
     ]
    }
   ],
   "source": [
    "tran_2021 = transitions[transitions['year'] == 2021]\n",
    "print_trans_matrix(tran_2021)"
   ]
  },
  {
   "cell_type": "code",
   "execution_count": 7,
   "id": "efd08e37-d574-4b2e-a46f-3ed29da61463",
   "metadata": {},
   "outputs": [
    {
     "name": "stdout",
     "output_type": "stream",
     "text": [
      "\t Clear \t Defol\n",
      "    Clear\t 0.948265796072563\t0.051734203927437016\n",
      "    Defol\t 0.9319373061334353\t0.06806269386656469\n"
     ]
    }
   ],
   "source": [
    "tran_2022 = transitions[transitions['year'] == 2022]\n",
    "print_trans_matrix(tran_2022)"
   ]
  },
  {
   "cell_type": "code",
   "execution_count": null,
   "id": "cf94d40b-36cc-4ab6-921f-31fd0c5fc37b",
   "metadata": {},
   "outputs": [],
   "source": []
  }
 ],
 "metadata": {
  "kernelspec": {
   "display_name": "Python 3 (ipykernel)",
   "language": "python",
   "name": "python3"
  },
  "language_info": {
   "codemirror_mode": {
    "name": "ipython",
    "version": 3
   },
   "file_extension": ".py",
   "mimetype": "text/x-python",
   "name": "python",
   "nbconvert_exporter": "python",
   "pygments_lexer": "ipython3",
   "version": "3.8.15"
  }
 },
 "nbformat": 4,
 "nbformat_minor": 5
}
