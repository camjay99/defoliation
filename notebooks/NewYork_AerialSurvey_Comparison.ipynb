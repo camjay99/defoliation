{
 "cells": [
  {
   "cell_type": "code",
   "execution_count": 2,
   "id": "57a282c7-c21b-4c4b-9e7e-21f7980e33c1",
   "metadata": {},
   "outputs": [],
   "source": [
    "import geopandas as gpd\n",
    "import cartopy.feature as cfeature\n",
    "from rasterio.warp import calculate_default_transform, reproject, Resampling\n",
    "from rasterio.transform import array_bounds\n",
    "import ultraplot as uplt\n",
    "import cartopy.crs as ccrs\n",
    "import rasterio as rio\n",
    "import numpy as np\n",
    "import matplotlib.patches as mpatches"
   ]
  },
  {
   "cell_type": "code",
   "execution_count": 3,
   "id": "73fda679-cdb1-44ab-a955-bd222250f16b",
   "metadata": {},
   "outputs": [
    {
     "ename": "RasterioIOError",
     "evalue": "./Data/Yearly Images/upscaled_class_2021.tif: No such file or directory",
     "output_type": "error",
     "traceback": [
      "\u001b[1;31m---------------------------------------------------------------------------\u001b[0m",
      "\u001b[1;31mCPLE_OpenFailedError\u001b[0m                      Traceback (most recent call last)",
      "File \u001b[1;32mrasterio\\\\_base.pyx:310\u001b[0m, in \u001b[0;36mrasterio._base.DatasetBase.__init__\u001b[1;34m()\u001b[0m\n",
      "File \u001b[1;32mrasterio\\\\_base.pyx:221\u001b[0m, in \u001b[0;36mrasterio._base.open_dataset\u001b[1;34m()\u001b[0m\n",
      "File \u001b[1;32mrasterio\\\\_err.pyx:359\u001b[0m, in \u001b[0;36mrasterio._err.exc_wrap_pointer\u001b[1;34m()\u001b[0m\n",
      "\u001b[1;31mCPLE_OpenFailedError\u001b[0m: ./Data/Yearly Images/upscaled_class_2021.tif: No such file or directory",
      "\nDuring handling of the above exception, another exception occurred:\n",
      "\u001b[1;31mRasterioIOError\u001b[0m                           Traceback (most recent call last)",
      "Cell \u001b[1;32mIn[3], line 1\u001b[0m\n\u001b[1;32m----> 1\u001b[0m new_york_2021 \u001b[38;5;241m=\u001b[39m \u001b[43mrio\u001b[49m\u001b[38;5;241;43m.\u001b[39;49m\u001b[43mopen\u001b[49m\u001b[43m(\u001b[49m\u001b[38;5;124;43m'\u001b[39;49m\u001b[38;5;124;43m./Data/Yearly Images/upscaled_class_2021.tif\u001b[39;49m\u001b[38;5;124;43m'\u001b[39;49m\u001b[43m,\u001b[49m\u001b[43m \u001b[49m\u001b[38;5;124;43m'\u001b[39;49m\u001b[38;5;124;43mr\u001b[39;49m\u001b[38;5;124;43m'\u001b[39;49m\u001b[43m)\u001b[49m\n\u001b[0;32m      2\u001b[0m aerial \u001b[38;5;241m=\u001b[39m rio\u001b[38;5;241m.\u001b[39mopen(\u001b[38;5;124m'\u001b[39m\u001b[38;5;124m./Data/Yearly Images/upscaled_aerial_survey_2021.tif\u001b[39m\u001b[38;5;124m'\u001b[39m, \u001b[38;5;124m'\u001b[39m\u001b[38;5;124mr\u001b[39m\u001b[38;5;124m'\u001b[39m)\n",
      "File \u001b[1;32m~\\miniforge3\\envs\\defoliation\\Lib\\site-packages\\rasterio\\env.py:463\u001b[0m, in \u001b[0;36mensure_env_with_credentials.<locals>.wrapper\u001b[1;34m(*args, **kwds)\u001b[0m\n\u001b[0;32m    460\u001b[0m     session \u001b[38;5;241m=\u001b[39m DummySession()\n\u001b[0;32m    462\u001b[0m \u001b[38;5;28;01mwith\u001b[39;00m env_ctor(session\u001b[38;5;241m=\u001b[39msession):\n\u001b[1;32m--> 463\u001b[0m     \u001b[38;5;28;01mreturn\u001b[39;00m \u001b[43mf\u001b[49m\u001b[43m(\u001b[49m\u001b[38;5;241;43m*\u001b[39;49m\u001b[43margs\u001b[49m\u001b[43m,\u001b[49m\u001b[43m \u001b[49m\u001b[38;5;241;43m*\u001b[39;49m\u001b[38;5;241;43m*\u001b[39;49m\u001b[43mkwds\u001b[49m\u001b[43m)\u001b[49m\n",
      "File \u001b[1;32m~\\miniforge3\\envs\\defoliation\\Lib\\site-packages\\rasterio\\__init__.py:356\u001b[0m, in \u001b[0;36mopen\u001b[1;34m(fp, mode, driver, width, height, count, crs, transform, dtype, nodata, sharing, opener, **kwargs)\u001b[0m\n\u001b[0;32m    353\u001b[0m     path \u001b[38;5;241m=\u001b[39m _parse_path(raw_dataset_path)\n\u001b[0;32m    355\u001b[0m \u001b[38;5;28;01mif\u001b[39;00m mode \u001b[38;5;241m==\u001b[39m \u001b[38;5;124m\"\u001b[39m\u001b[38;5;124mr\u001b[39m\u001b[38;5;124m\"\u001b[39m:\n\u001b[1;32m--> 356\u001b[0m     dataset \u001b[38;5;241m=\u001b[39m \u001b[43mDatasetReader\u001b[49m\u001b[43m(\u001b[49m\u001b[43mpath\u001b[49m\u001b[43m,\u001b[49m\u001b[43m \u001b[49m\u001b[43mdriver\u001b[49m\u001b[38;5;241;43m=\u001b[39;49m\u001b[43mdriver\u001b[49m\u001b[43m,\u001b[49m\u001b[43m \u001b[49m\u001b[43msharing\u001b[49m\u001b[38;5;241;43m=\u001b[39;49m\u001b[43msharing\u001b[49m\u001b[43m,\u001b[49m\u001b[43m \u001b[49m\u001b[38;5;241;43m*\u001b[39;49m\u001b[38;5;241;43m*\u001b[39;49m\u001b[43mkwargs\u001b[49m\u001b[43m)\u001b[49m\n\u001b[0;32m    357\u001b[0m \u001b[38;5;28;01melif\u001b[39;00m mode \u001b[38;5;241m==\u001b[39m \u001b[38;5;124m\"\u001b[39m\u001b[38;5;124mr+\u001b[39m\u001b[38;5;124m\"\u001b[39m:\n\u001b[0;32m    358\u001b[0m     dataset \u001b[38;5;241m=\u001b[39m get_writer_for_path(path, driver\u001b[38;5;241m=\u001b[39mdriver)(\n\u001b[0;32m    359\u001b[0m         path, mode, driver\u001b[38;5;241m=\u001b[39mdriver, sharing\u001b[38;5;241m=\u001b[39msharing, \u001b[38;5;241m*\u001b[39m\u001b[38;5;241m*\u001b[39mkwargs\n\u001b[0;32m    360\u001b[0m     )\n",
      "File \u001b[1;32mrasterio\\\\_base.pyx:312\u001b[0m, in \u001b[0;36mrasterio._base.DatasetBase.__init__\u001b[1;34m()\u001b[0m\n",
      "\u001b[1;31mRasterioIOError\u001b[0m: ./Data/Yearly Images/upscaled_class_2021.tif: No such file or directory"
     ]
    }
   ],
   "source": [
    "new_york_2021 = rio.open('./Data/Yearly Images/upscaled_class_2021.tif', 'r')\n",
    "aerial = rio.open('./Data/Yearly Images/upscaled_aerial_survey_2021.tif', 'r')"
   ]
  },
  {
   "cell_type": "code",
   "execution_count": null,
   "id": "930cca11-7511-42c9-a72c-cd011334bac2",
   "metadata": {},
   "outputs": [],
   "source": [
    "dest_crs = ccrs.LambertConformal(central_longitude=-76.0, central_latitude=42.0,)\n",
    "\n",
    "def prepare_for_viz(raster_file, dest_crs):\n",
    "    transform, width, height = calculate_default_transform(\n",
    "        raster_file.crs, dest_crs, raster_file.width, raster_file.height, *raster_file.bounds)\n",
    "    \n",
    "    new_image, new_transform = reproject(\n",
    "        source=raster_file.read(),\n",
    "        src_transform=raster_file.transform,\n",
    "        src_crs=raster_file.crs,\n",
    "        dst_crs=dest_crs,\n",
    "        resampling=Resampling.nearest,\n",
    "        dst_nodata=np.nan)\n",
    "    print(new_transform)\n",
    "    new_bounds = array_bounds(new_image.shape[1], new_image.shape[2], new_transform)\n",
    "    \n",
    "    return new_image, new_bounds, new_transform\n",
    "\n",
    "# 2021\n",
    "image_2021, bounds_2021, transform_2021 = prepare_for_viz(new_york_2021, dest_crs)"
   ]
  },
  {
   "cell_type": "code",
   "execution_count": null,
   "id": "0c87a5f8-a20c-45ee-bbf5-7610405689d3",
   "metadata": {},
   "outputs": [],
   "source": [
    "def prepare_for_viz2(raster_file, dest_crs, dest_transform):\n",
    "    transform, width, height = calculate_default_transform(\n",
    "        raster_file.crs, dest_crs, raster_file.width, raster_file.height, *raster_file.bounds)\n",
    "    \n",
    "    new_image, new_transform = reproject(\n",
    "        source=raster_file.read(),\n",
    "        src_transform=raster_file.transform,\n",
    "        src_crs=raster_file.crs,\n",
    "        dst_transform=dest_transform,\n",
    "        dst_crs=dest_crs,\n",
    "        resampling=Resampling.nearest,\n",
    "        dst_nodata=0)\n",
    "    print(new_transform)\n",
    "    new_bounds = array_bounds(new_image.shape[1], new_image.shape[2], new_transform)\n",
    "    \n",
    "    return new_image, new_bounds\n",
    "\n",
    "# Aerial Survey\n",
    "image_aerial, bounds_aerial = prepare_for_viz2(aerial, dest_crs, transform_2021)\n",
    "\n",
    "# Properly mask out pixels\n",
    "image_aerial = image_aerial.astype(float)\n",
    "mask = image_aerial == 0\n",
    "image_aerial[mask] = np.nan\n",
    "image_aerial -= 1"
   ]
  },
  {
   "cell_type": "code",
   "execution_count": null,
   "id": "1f84e82a-4647-4daa-b342-1ae76032c76a",
   "metadata": {},
   "outputs": [],
   "source": [
    "def add_raster_data(ax, image, bounds, year, crs, vmin, vmax, cmap):\n",
    "    m = ax.imshow(image[0], cmap=cmap, levels=np.linspace(vmin, vmax, 11), transform=crs,\n",
    "                  extent=[bounds[0], bounds[2], bounds[1], bounds[3]])\n",
    "    ax.format(grid=False, facecolor='white', title=year)\n",
    "    ax.set_extent([-80, -71.7, 40.3, 45], crs=ccrs.PlateCarree())\n",
    "    \n",
    "    return m"
   ]
  },
  {
   "cell_type": "code",
   "execution_count": null,
   "id": "81ee5d2e-050e-48f1-8b2c-80e62f2a00f8",
   "metadata": {},
   "outputs": [],
   "source": []
  },
  {
   "cell_type": "code",
   "execution_count": null,
   "id": "c54fd899-721e-4ad1-8cd4-51692ce3ab35",
   "metadata": {},
   "outputs": [],
   "source": [
    "cmap = ['gray2', 'blood red']"
   ]
  },
  {
   "cell_type": "code",
   "execution_count": null,
   "id": "4fdaf915-67ac-40d7-b0eb-1f3b6a597837",
   "metadata": {},
   "outputs": [],
   "source": [
    "fig, axes = pplt.subplots(nrows=1, ncols=2, figsize=('140mm','70mm'), proj=dest_crs, facecolor='white', fontsize=12)\n",
    "\n",
    "axes.format(abc='A.', abcloc='ul')\n",
    "\n",
    "vmax = 1\n",
    "vmin = 0\n",
    "\n",
    "# Yearly raster images\n",
    "add_raster_data(axes[0], threshold_2021, bounds_2021, 'Satellite - 2021', dest_crs, vmin, vmax, cmap)\n",
    "# Aerial survey data\n",
    "add_raster_data(axes[1], image_aerial, bounds_aerial, 'Aerial Survey - 2021', dest_crs, vmin, vmax, cmap)\n",
    "\n",
    "# Add counties and set extent\n",
    "#for i in range(6):\n",
    "    #axes[i].add_geometries(county_2021.geometry, crs=county_2021.crs, facecolor='None', edgecolor='black', alpha=0.8)\n",
    "    \n",
    "no_patch = mpatches.Patch(color=cmap[0], label='Unaffected')\n",
    "defol_patch = mpatches.Patch(color=cmap[1], label='Defoliation')\n",
    "fig.legend(handles=[no_patch, defol_patch], loc='b', ncols=2)\n",
    "\n",
    "#fig.savefig('./Figures/Yearly Images/abstract_figure_erdgvm.png')"
   ]
  },
  {
   "cell_type": "code",
   "execution_count": null,
   "id": "821ec15f-abbc-4307-8158-85ceca12d39f",
   "metadata": {},
   "outputs": [],
   "source": [
    "image_aerial.shape"
   ]
  },
  {
   "cell_type": "code",
   "execution_count": null,
   "id": "3e3688db-d4e9-4470-a9b6-4bbcc59dc02f",
   "metadata": {},
   "outputs": [],
   "source": [
    "threshold_2021.shape"
   ]
  },
  {
   "cell_type": "code",
   "execution_count": null,
   "id": "84b116c3-3202-4e3d-8bc7-b1338051a331",
   "metadata": {},
   "outputs": [],
   "source": [
    "bounds_2021"
   ]
  },
  {
   "cell_type": "code",
   "execution_count": null,
   "id": "eb3eb309-2883-429a-9a45-7907325ee025",
   "metadata": {},
   "outputs": [],
   "source": [
    "bounds_aerial"
   ]
  },
  {
   "cell_type": "code",
   "execution_count": null,
   "id": "7d196a55-4259-4b91-b714-abaa7bf3f17c",
   "metadata": {},
   "outputs": [],
   "source": [
    "from contextlib import contextmanager  \n",
    "import rasterio as rio\n",
    "from rasterio.io import MemoryFile\n",
    "from rasterio.windows import from_bounds\n",
    "\n",
    "# Rasterio is a bit weird and doesn't allow reprojections that explicitly change the transform unless they are\n",
    "# to a destination file. Therefore, we create an in memory file to complete the reprojection and yield\n",
    "# the new file for subsequent operations. The conextmanager decorator allows this to be used in a `with` statement.\n",
    "@contextmanager  \n",
    "def reproject_raster(in_path, crs):\n",
    "    with rio.open(in_path, 'r') as src:\n",
    "        # Calculate transform in new crs if unspecified\n",
    "        transform, width, height = calculate_default_transform(src.crs, crs, src.width, src.height, *src.bounds)\n",
    "        \n",
    "        # Create properities for MemoryFile\n",
    "        kwargs = src.meta.copy()\n",
    "        kwargs.update({\n",
    "            'crs': crs,\n",
    "            'transform': transform,\n",
    "            'width': width,\n",
    "            'height': height})\n",
    "\n",
    "        with MemoryFile() as memfile:\n",
    "            with memfile.open(**kwargs) as dst:\n",
    "                for i in range(1, src.count + 1):\n",
    "                    reproject(\n",
    "                        source=rio.band(src, i),\n",
    "                        destination=rio.band(dst, i),\n",
    "                        src_transform=src.transform,\n",
    "                        src_crs=src.crs,\n",
    "                        dst_transform=transform,\n",
    "                        dst_crs=crs,\n",
    "                        resampling=Resampling.nearest,\n",
    "                        dst_nodata=np.nan)\n",
    "            with memfile.open() as dataset:  # Reopen as DatasetReader\n",
    "                yield dataset  # Note yield not return as we're a contextmanager"
   ]
  },
  {
   "cell_type": "code",
   "execution_count": null,
   "id": "727e05c0-f6e9-43be-b361-34628ce95c6c",
   "metadata": {},
   "outputs": [],
   "source": [
    "with reproject_raster('./Data/Yearly Images/upscaled_class_2021.tif', dest_crs) as in_mem_ds:\n",
    "    transform = in_mem_ds.transform\n",
    "    width = in_mem_ds.width\n",
    "    height = in_mem_ds.height\n",
    "    new_york_raster = in_mem_ds.read()\n",
    "    new_york_bounds = in_mem_ds.bounds\n",
    "    \n",
    "with reproject_raster('./Data/Yearly Images/upscaled_aerial_survey_2021.tif', dest_crs) as in_mem_ds:\n",
    "    small_window = from_bounds(*new_york_bounds, transform=in_mem_ds.transform)\n",
    "    aerial_raster = in_mem_ds.read(out_shape=(1, height, width), window=small_window, boundless=True)\n",
    "    \n",
    "    # Properly mask out pixels\n",
    "    aerial_raster = aerial_raster.astype(float)\n",
    "    mask = aerial_raster == 0\n",
    "    aerial_raster[mask] = np.nan\n",
    "    aerial_raster -= 1"
   ]
  },
  {
   "cell_type": "code",
   "execution_count": null,
   "id": "7e2660e4-5f8e-4c19-8c00-beca3812bb80",
   "metadata": {},
   "outputs": [],
   "source": [
    "cutoff = 0.3\n",
    "\n",
    "threshold_2021 = new_york_raster.copy()\n",
    "threshold_2021 = np.greater(new_york_raster, cutoff, out=threshold_2021, where=~np.isnan(new_york_raster))"
   ]
  },
  {
   "cell_type": "code",
   "execution_count": null,
   "id": "af472878-b7d5-4b50-b3ea-eae911f4c354",
   "metadata": {},
   "outputs": [],
   "source": [
    "fig, axes = pplt.subplots(nrows=1, ncols=2, figsize=('140mm','70mm'), proj=dest_crs, facecolor='white', fontsize=12)\n",
    "\n",
    "axes.format(abc='A.', abcloc='ul')\n",
    "\n",
    "vmax = 1\n",
    "vmin = 0\n",
    "\n",
    "# Aerial survey data\n",
    "add_raster_data(axes[1], aerial_raster, new_york_bounds, 'Aerial Survey - 2021', dest_crs, vmin, vmax, cmap)\n",
    "\n",
    "# Yearly raster images\n",
    "add_raster_data(axes[0], threshold_2021, new_york_bounds, 'Satellite - 2021', dest_crs, vmin, vmax, cmap)\n",
    "\n",
    "\n",
    "# Add counties and set extent\n",
    "#for i in range(6):\n",
    "    #axes[i].add_geometries(county_2021.geometry, crs=county_2021.crs, facecolor='None', edgecolor='black', alpha=0.8)\n",
    "    \n",
    "no_patch = mpatches.Patch(color=cmap[0], label='Unaffected')\n",
    "defol_patch = mpatches.Patch(color=cmap[1], label='Defoliation')\n",
    "fig.legend(handles=[no_patch, defol_patch], loc='b', ncols=2)\n",
    "\n",
    "#fig.savefig('./Figures/Yearly Images/abstract_figure_erdgvm.png')"
   ]
  },
  {
   "cell_type": "code",
   "execution_count": null,
   "id": "d7d5fb05-aa64-43cb-b95d-3cc99916c3eb",
   "metadata": {},
   "outputs": [],
   "source": [
    "threshold_2021.shape"
   ]
  },
  {
   "cell_type": "code",
   "execution_count": null,
   "id": "a3f6f80e-e795-40e8-b8b7-ae3e9abe7301",
   "metadata": {},
   "outputs": [],
   "source": [
    "np.unique(threshold_2021)"
   ]
  },
  {
   "cell_type": "code",
   "execution_count": null,
   "id": "0b728b52-5eb8-4797-91f5-70edacf6ae26",
   "metadata": {},
   "outputs": [],
   "source": [
    "test = (np.where((threshold_2021 == 0) & (aerial_raster == 0), 1, 0) +\n",
    "        np.where((threshold_2021 == 1) & (aerial_raster == 1), 2, 0) +\n",
    "        np.where((threshold_2021 == 1) & (aerial_raster == 0), 3, 0) +\n",
    "        np.where((threshold_2021 == 0) & (aerial_raster == 1), 4, 0))"
   ]
  },
  {
   "cell_type": "code",
   "execution_count": null,
   "id": "2892ad75-d36e-4d89-b26f-d4d75455abfd",
   "metadata": {},
   "outputs": [],
   "source": [
    "fig, axes = pplt.subplots(nrows=1, ncols=1, figsize=('140mm','70mm'), proj=dest_crs, facecolor='white', fontsize=12)\n",
    "\n",
    "axes.format(abc='A.', abcloc='ul')\n",
    "\n",
    "vmax = 4\n",
    "vmin = 0\n",
    "\n",
    "# Aerial survey data\n",
    "add_raster_data(axes[0], test, new_york_bounds, 'Aerial Survey - 2021', dest_crs, vmin, vmax, ['white', 'gray2', 'green', 'blue', 'pink'])\n",
    "\n",
    "\n",
    "# Add counties and set extent\n",
    "#for i in range(6):\n",
    "    #axes[i].add_geometries(county_2021.geometry, crs=county_2021.crs, facecolor='None', edgecolor='black', alpha=0.8)\n",
    "    \n",
    "no_patch = mpatches.Patch(color=cmap[0], label='Unaffected')\n",
    "defol_patch = mpatches.Patch(color=cmap[1], label='Defoliation')\n",
    "fig.legend(handles=[no_patch, defol_patch], loc='b', ncols=2)\n",
    "\n",
    "#fig.savefig('./Figures/Yearly Images/abstract_figure_erdgvm.png')"
   ]
  },
  {
   "cell_type": "code",
   "execution_count": null,
   "id": "dd3dea15-41cb-4691-b93a-78e80d86051b",
   "metadata": {},
   "outputs": [],
   "source": [
    "counts = np.histogram(test, bins=[-0.5, 0.5, 1.5, 2.5, 3.5, 4.5])[0]\n",
    "print(counts[2] / (counts[2]+counts[4]))\n",
    "print(counts[2] / (counts[2]+counts[3]))"
   ]
  },
  {
   "cell_type": "code",
   "execution_count": null,
   "id": "b2fe34fc-bcda-47fa-b5e8-4b47363b03a5",
   "metadata": {},
   "outputs": [],
   "source": [
    "transform"
   ]
  },
  {
   "cell_type": "code",
   "execution_count": null,
   "id": "01f4044d-8a24-40f3-90bb-196ec91c95c1",
   "metadata": {},
   "outputs": [],
   "source": [
    "transform[2]"
   ]
  },
  {
   "cell_type": "code",
   "execution_count": null,
   "id": "cbc95071-1119-40bd-9299-32b7b9d672f5",
   "metadata": {},
   "outputs": [],
   "source": [
    "coarse_transform = rio.Affine(1000, 0.0, transform[2], 0.0, 1000, transform[5])"
   ]
  },
  {
   "cell_type": "code",
   "execution_count": null,
   "id": "39b2b6e3-5108-4bf8-8f9d-68e51088dd16",
   "metadata": {},
   "outputs": [],
   "source": [
    "with reproject_raster('./Data/Yearly Images/upscaled_class_2021.tif', dest_crs) as in_mem_ds:\n",
    "    small_window = from_bounds(*new_york_bounds, transform=in_mem_ds.transform)\n",
    "    \n",
    "    coarse_height = height // 4\n",
    "    coarse_width = width // 4\n",
    "    \n",
    "    new_york_raster = in_mem_ds.read(out_shape=(1, coarse_height, coarse_width), window=small_window, boundless=True)\n",
    "    \n",
    "with reproject_raster('./Data/Yearly Images/upscaled_aerial_survey_2021.tif', dest_crs) as in_mem_ds:\n",
    "    small_window = from_bounds(*new_york_bounds, transform=in_mem_ds.transform)\n",
    "    aerial_raster = in_mem_ds.read(out_shape=(1, coarse_height, coarse_width), window=small_window, boundless=True)\n",
    "    \n",
    "    # Properly mask out pixels\n",
    "    aerial_raster = aerial_raster.astype(float)\n",
    "    mask = aerial_raster == 0\n",
    "    aerial_raster[mask] = np.nan\n",
    "    aerial_raster -= 1"
   ]
  },
  {
   "cell_type": "code",
   "execution_count": null,
   "id": "8701a707-2ca3-4334-930e-0e62ae624b8f",
   "metadata": {},
   "outputs": [],
   "source": [
    "new_york_raster.shape"
   ]
  },
  {
   "cell_type": "code",
   "execution_count": null,
   "id": "bc44c505-90f7-4827-ad72-787378ff76c1",
   "metadata": {},
   "outputs": [],
   "source": [
    "cutoff = 0.2\n",
    "\n",
    "threshold_2021 = new_york_raster.copy()\n",
    "threshold_2021 = np.greater(new_york_raster, cutoff, out=threshold_2021, where=~np.isnan(new_york_raster))"
   ]
  },
  {
   "cell_type": "code",
   "execution_count": null,
   "id": "dc90bf17-8e0f-4167-a9fd-899b518e6973",
   "metadata": {},
   "outputs": [],
   "source": [
    "fig, axes = pplt.subplots(nrows=1, ncols=2, figsize=('140mm','70mm'), proj=dest_crs, facecolor='white', fontsize=12)\n",
    "\n",
    "axes.format(abc='A.', abcloc='ul')\n",
    "\n",
    "vmax = 1\n",
    "vmin = 0\n",
    "\n",
    "# Aerial survey data\n",
    "add_raster_data(axes[1], aerial_raster, new_york_bounds, 'Aerial Survey - 2021', dest_crs, vmin, vmax, cmap)\n",
    "\n",
    "# Yearly raster images\n",
    "add_raster_data(axes[0], threshold_2021, new_york_bounds, 'Satellite - 2021', dest_crs, vmin, vmax, cmap)\n",
    "\n",
    "\n",
    "# Add counties and set extent\n",
    "#for i in range(6):\n",
    "    #axes[i].add_geometries(county_2021.geometry, crs=county_2021.crs, facecolor='None', edgecolor='black', alpha=0.8)\n",
    "    \n",
    "no_patch = mpatches.Patch(color=cmap[0], label='Unaffected')\n",
    "defol_patch = mpatches.Patch(color=cmap[1], label='Defoliation')\n",
    "fig.legend(handles=[no_patch, defol_patch], loc='b', ncols=2)\n",
    "\n",
    "#fig.savefig('./Figures/Yearly Images/abstract_figure_erdgvm.png')"
   ]
  },
  {
   "cell_type": "code",
   "execution_count": null,
   "id": "a74e6fcf-d8d2-4859-85bf-8e681cfad3ab",
   "metadata": {},
   "outputs": [],
   "source": [
    "test = (np.where((threshold_2021 == 0) & (aerial_raster == 0), 1, 0) +\n",
    "        np.where((threshold_2021 == 1) & (aerial_raster == 1), 2, 0) +\n",
    "        np.where((threshold_2021 == 1) & (aerial_raster == 0), 3, 0) +\n",
    "        np.where((threshold_2021 == 0) & (aerial_raster == 1), 4, 0))"
   ]
  },
  {
   "cell_type": "code",
   "execution_count": null,
   "id": "0a99c0e2-ac98-4b37-9182-f301b3eb4f49",
   "metadata": {},
   "outputs": [],
   "source": [
    "counts = np.histogram(test, bins=[-0.5, 0.5, 1.5, 2.5, 3.5, 4.5])[0]\n",
    "print(counts[2] / (counts[2]+counts[4]))\n",
    "print(counts[2] / (counts[2]+counts[3]))"
   ]
  },
  {
   "cell_type": "code",
   "execution_count": null,
   "id": "8fd8e843-f738-42a6-9ff8-0dd791954fe2",
   "metadata": {},
   "outputs": [],
   "source": [
    "with reproject_raster(\"./Data/site_validation/as_satellite_comp_2021_10000.tif\", dest_crs) as in_mem_ds:\n",
    "    comp = in_mem_ds.read()\n",
    "    comp_bounds = in_mem_ds.bounds"
   ]
  },
  {
   "cell_type": "code",
   "execution_count": null,
   "id": "a8c45e38-c9df-47f0-8e83-8397aeff101f",
   "metadata": {},
   "outputs": [],
   "source": [
    "comp.shape"
   ]
  },
  {
   "cell_type": "code",
   "execution_count": null,
   "id": "2d54a92b-2053-435b-96ac-dfb50d1fc7f6",
   "metadata": {},
   "outputs": [],
   "source": [
    "np.unique(comp[0])"
   ]
  },
  {
   "cell_type": "code",
   "execution_count": null,
   "id": "270cff93-d93a-4597-88e9-a823f06ff5e7",
   "metadata": {},
   "outputs": [],
   "source": [
    "comp[1]"
   ]
  },
  {
   "cell_type": "code",
   "execution_count": null,
   "id": "b6a3165f-ed86-4bd4-b283-9be4021d352c",
   "metadata": {},
   "outputs": [],
   "source": [
    "cutoff = 0.05\n",
    "\n",
    "relative_comp = comp[[0]] / (comp[[1]]+0.00001)\n",
    "threshold_2021 = relative_comp.copy()\n",
    "threshold_2021 = np.greater(relative_comp, cutoff, out=threshold_2021, where=~np.isnan(relative_comp))"
   ]
  },
  {
   "cell_type": "code",
   "execution_count": null,
   "id": "8153753b-2c21-480d-9bc8-7459df782321",
   "metadata": {},
   "outputs": [],
   "source": [
    "fig, axes = pplt.subplots(nrows=1, ncols=2, figsize=('140mm','70mm'), proj=dest_crs, facecolor='white', fontsize=12)\n",
    "\n",
    "axes.format(abc='A.', abcloc='ul')\n",
    "\n",
    "vmax = 1\n",
    "vmin = 0\n",
    "\n",
    "# Aerial survey data\n",
    "add_raster_data(axes[1], comp[[2]], comp_bounds, 'Aerial Survey - 2021', dest_crs, vmin, vmax, cmap)\n",
    "\n",
    "# Yearly raster images\n",
    "add_raster_data(axes[0], threshold_2021, comp_bounds, 'Satellite - 2021', dest_crs, vmin, vmax, cmap)\n",
    "\n",
    "\n",
    "# Add counties and set extent\n",
    "#for i in range(6):\n",
    "    #axes[i].add_geometries(county_2021.geometry, crs=county_2021.crs, facecolor='None', edgecolor='black', alpha=0.8)\n",
    "    \n",
    "no_patch = mpatches.Patch(color=cmap[0], label='Unaffected')\n",
    "defol_patch = mpatches.Patch(color=cmap[1], label='Defoliation')\n",
    "fig.legend(handles=[no_patch, defol_patch], loc='b', ncols=2)\n",
    "\n",
    "#fig.savefig('./Figures/Yearly Images/abstract_figure_erdgvm.png')"
   ]
  },
  {
   "cell_type": "code",
   "execution_count": null,
   "id": "8ef848a9-debb-4b29-b7d9-eb3b90200da0",
   "metadata": {},
   "outputs": [],
   "source": [
    "# Test potential cutoffs\n",
    "cutoff = 0.2\n",
    "\n",
    "for cutoff in [0.01, 0.02, 0.03, 0.04, 0.05]:\n",
    "    relative_comp = comp[[0]] / (comp[[1]]+0.00001)\n",
    "    threshold_2021 = relative_comp.copy()\n",
    "    threshold_2021 = np.greater(relative_comp, cutoff, out=threshold_2021, where=~np.isnan(relative_comp))\n",
    "    \n",
    "    test = (np.where((threshold_2021 == 0) & (comp[[2]] == 0), 1, 0) +\n",
    "            np.where((threshold_2021 == 1) & (comp[[2]] == 2021), 2, 0) +\n",
    "            np.where((threshold_2021 == 1) & (comp[[2]] == 0), 3, 0) +\n",
    "            np.where((threshold_2021 == 0) & (comp[[2]] == 2021), 4, 0))\n",
    "    \n",
    "    counts = np.histogram(test, bins=[-0.5, 0.5, 1.5, 2.5, 3.5, 4.5])[0]\n",
    "    print(f\"Cutoff: {cutoff}, PA: {counts[2] / (counts[2]+counts[4]):.3f}, UA: {counts[2] / (counts[2]+counts[3]):.3f}\")"
   ]
  },
  {
   "cell_type": "code",
   "execution_count": null,
   "id": "daf65850-e64f-405c-a56f-99956f5ff43f",
   "metadata": {},
   "outputs": [],
   "source": []
  }
 ],
 "metadata": {
  "kernelspec": {
   "display_name": "Python 3 (ipykernel)",
   "language": "python",
   "name": "python3"
  },
  "language_info": {
   "codemirror_mode": {
    "name": "ipython",
    "version": 3
   },
   "file_extension": ".py",
   "mimetype": "text/x-python",
   "name": "python",
   "nbconvert_exporter": "python",
   "pygments_lexer": "ipython3",
   "version": "3.13.2"
  }
 },
 "nbformat": 4,
 "nbformat_minor": 5
}
